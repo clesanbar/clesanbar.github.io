{
  "cells": [
    {
      "cell_type": "raw",
      "metadata": {},
      "source": [
        "---\n",
        "title: \"404 error\"\n",
        "---"
      ],
      "id": "4d512cd9"
    },
    {
      "cell_type": "markdown",
      "metadata": {},
      "source": [
        "```{css, echo=FALSE}\n",
        ".title {\n",
        "  font-size: 100px;\n",
        "}\n",
        "```\n",
        "\n",
        "\n",
        "![](images/picture_404.jpg){fig-align=\"center\"}\n",
        "\n",
        "# Whoops {style=\"text-align: center;\"}\n",
        "\n",
        "The page you requested cannot be found.\n",
        "\n",
        "Perhaps it missed the forest for the trees 😉"
      ],
      "id": "91e5d5aa"
    }
  ],
  "metadata": {
    "kernelspec": {
      "display_name": "Python 3",
      "language": "python",
      "name": "python3"
    }
  },
  "nbformat": 4,
  "nbformat_minor": 5
}